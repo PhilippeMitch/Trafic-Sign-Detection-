{
  "nbformat": 4,
  "nbformat_minor": 0,
  "metadata": {
    "colab": {
      "name": "Trafic Line Classification Notebook.ipynb",
      "provenance": [],
      "toc_visible": true
    },
    "kernelspec": {
      "name": "python3",
      "display_name": "Python 3"
    },
    "accelerator": "GPU"
  },
  "cells": [
    {
      "cell_type": "code",
      "metadata": {
        "id": "C47oGW7KoLQA",
        "colab_type": "code",
        "colab": {}
      },
      "source": [
        "# Load pickled data\n",
        "import numpy as np\n",
        "from skimage import color, exposure, transform\n",
        "from skimage import io\n",
        "import os\n",
        "import glob\n",
        "\n",
        "from keras.models import Sequential\n",
        "\n",
        "from keras.layers import Dense, Dropout, Activation, Flatten\n",
        "from keras.layers import Conv2D, MaxPool2D\n",
        "\n",
        "from keras.callbacks import LearningRateScheduler, ModelCheckpoint\n",
        "\n",
        "from keras.optimizers import SGD\n",
        "\n",
        "import matplotlib\n",
        "import matplotlib.pyplot as plt\n",
        "%matplotlib inline\n",
        "\n",
        "import pandas as pd\n",
        "import tensorflow as tf\n",
        "print(tf.__version__)"
      ],
      "execution_count": 0,
      "outputs": []
    },
    {
      "cell_type": "markdown",
      "metadata": {
        "id": "MelM39wuC9jY",
        "colab_type": "text"
      },
      "source": [
        "### Function for data preprocessing"
      ]
    },
    {
      "cell_type": "code",
      "metadata": {
        "id": "3fYqUDpyC-vq",
        "colab_type": "code",
        "colab": {}
      },
      "source": [
        "def preprocess_img(img):\n",
        "    # Histogram normalization in v channel\n",
        "    hsv = color.rgb2hsv(img)\n",
        "    hsv[:, :, 2] = exposure.equalize_hist(hsv[:, :, 2])\n",
        "    img = color.hsv2rgb(hsv)\n",
        "\n",
        "    # central square crop\n",
        "    min_side = min(img.shape[:-1])\n",
        "    centre = img.shape[0] // 2, img.shape[1] // 2\n",
        "    img = img[centre[0] - min_side // 2:centre[0] + min_side // 2,\n",
        "              centre[1] - min_side // 2:centre[1] + min_side // 2,\n",
        "              :]\n",
        "\n",
        "    # rescale to standard size\n",
        "    img = transform.resize(img, (48, 48))\n",
        "\n",
        "    # roll color axis to axis 0\n",
        "    img = np.rollaxis(img, -1)\n",
        "\n",
        "    return img"
      ],
      "execution_count": 0,
      "outputs": []
    },
    {
      "cell_type": "code",
      "metadata": {
        "id": "LW-eCBW0DDky",
        "colab_type": "code",
        "colab": {}
      },
      "source": [
        "def get_class(img_path):\n",
        "    return int(img_path.split('/')[-2])"
      ],
      "execution_count": 0,
      "outputs": []
    },
    {
      "cell_type": "markdown",
      "metadata": {
        "id": "rcQzhLINDHzR",
        "colab_type": "text"
      },
      "source": [
        "### Load the training dataset"
      ]
    },
    {
      "cell_type": "code",
      "metadata": {
        "id": "bAPSki4QDJ0S",
        "colab_type": "code",
        "colab": {}
      },
      "source": [
        "train_root_dir = '/content/training/GTSRB/Final_Training/Images'\n",
        "train_imgs = []\n",
        "train_labels = []\n",
        "\n",
        "all_img_paths = glob.glob(os.path.join(train_root_dir, '*/*.ppm'))\n",
        "np.random.shuffle(all_img_paths)\n",
        "for img_path in all_img_paths:\n",
        "    img = preprocess_img(io.imread(img_path))\n",
        "    label = get_class(img_path)\n",
        "    train_imgs.append(img)\n",
        "    train_labels.append(label)\n",
        "\n",
        "X_train = np.array(train_imgs, dtype='float32')\n",
        "# Make one hot targets\n",
        "Y_train = np.eye(43, dtype='uint8')[train_labels]"
      ],
      "execution_count": 0,
      "outputs": []
    },
    {
      "cell_type": "code",
      "metadata": {
        "id": "F8IV5cowmmr7",
        "colab_type": "code",
        "colab": {
          "base_uri": "https://localhost:8080/",
          "height": 34
        },
        "outputId": "28380be2-6076-4adb-88df-4614182acddf"
      },
      "source": [
        "Y_train.shape"
      ],
      "execution_count": 11,
      "outputs": [
        {
          "output_type": "execute_result",
          "data": {
            "text/plain": [
              "(39209, 43)"
            ]
          },
          "metadata": {
            "tags": []
          },
          "execution_count": 11
        }
      ]
    },
    {
      "cell_type": "code",
      "metadata": {
        "id": "X6eWm6rROHnQ",
        "colab_type": "code",
        "outputId": "223f9828-10fd-4547-c840-3734f92b2de8",
        "colab": {
          "base_uri": "https://localhost:8080/",
          "height": 34
        }
      },
      "source": [
        "X_train.shape"
      ],
      "execution_count": 15,
      "outputs": [
        {
          "output_type": "execute_result",
          "data": {
            "text/plain": [
              "(39209, 3, 48, 48)"
            ]
          },
          "metadata": {
            "tags": []
          },
          "execution_count": 15
        }
      ]
    },
    {
      "cell_type": "markdown",
      "metadata": {
        "id": "9tGNnNt8QqQk",
        "colab_type": "text"
      },
      "source": [
        "### Load the testing data"
      ]
    },
    {
      "cell_type": "code",
      "metadata": {
        "id": "GL8SBpSDQs_H",
        "colab_type": "code",
        "colab": {}
      },
      "source": [
        "test = pd.read_csv('testing/GT-final_test.csv', sep=';')"
      ],
      "execution_count": 0,
      "outputs": []
    },
    {
      "cell_type": "code",
      "metadata": {
        "id": "uJCNA6fodRwD",
        "colab_type": "code",
        "colab": {}
      },
      "source": [
        "# Load test dataset\n",
        "X_test = []\n",
        "y_test = []\n",
        "i = 0\n",
        "for file_name, class_id in zip(list(test['Filename']), list(test['ClassId'])):\n",
        "    img_path = os.path.join('testing/GTSRB/Final_Test/Images/', file_name)\n",
        "    X_test.append(preprocess_img(io.imread(img_path)))\n",
        "    y_test.append(class_id)"
      ],
      "execution_count": 0,
      "outputs": []
    },
    {
      "cell_type": "code",
      "metadata": {
        "id": "-ORwKbCpeVCH",
        "colab_type": "code",
        "colab": {}
      },
      "source": [
        "X_test = np.array(X_test)\n",
        "y_test = np.array(y_test)"
      ],
      "execution_count": 0,
      "outputs": []
    },
    {
      "cell_type": "code",
      "metadata": {
        "id": "6L0AgeisethL",
        "colab_type": "code",
        "colab": {
          "base_uri": "https://localhost:8080/",
          "height": 34
        },
        "outputId": "39adcadd-a215-40f7-9eab-74a4099d8f9a"
      },
      "source": [
        "X_test.shape"
      ],
      "execution_count": 19,
      "outputs": [
        {
          "output_type": "execute_result",
          "data": {
            "text/plain": [
              "(12630, 3, 48, 48)"
            ]
          },
          "metadata": {
            "tags": []
          },
          "execution_count": 19
        }
      ]
    },
    {
      "cell_type": "markdown",
      "metadata": {
        "id": "PxqL8odxpz0C",
        "colab_type": "text"
      },
      "source": [
        "### Create the model"
      ]
    },
    {
      "cell_type": "code",
      "metadata": {
        "id": "HJ3i1MLtpvDQ",
        "colab_type": "code",
        "colab": {}
      },
      "source": [
        "input_shape = (48, 48, 3)"
      ],
      "execution_count": 0,
      "outputs": []
    },
    {
      "cell_type": "code",
      "metadata": {
        "id": "D83-8ncOp1m4",
        "colab_type": "code",
        "outputId": "1ab70736-2fe5-423d-d06c-d876aa8c91c4",
        "colab": {
          "base_uri": "https://localhost:8080/",
          "height": 697
        }
      },
      "source": [
        "model = Sequential()\n",
        "\n",
        "model.add(Conv2D(32, kernel_size=(3,3), padding='same', input_shape=input_shape, activation='relu'))\n",
        "model.add(Conv2D(32, kernel_size=(3, 3), activation='relu'))\n",
        "model.add(MaxPool2D(pool_size=(2, 2)))\n",
        "model.add(Dropout(0.2))\n",
        "\n",
        "model.add(Conv2D(64, kernel_size=(3, 3), padding='same', activation='relu'))\n",
        "model.add(Conv2D(64, kernel_size=(3, 3), activation='relu'))\n",
        "model.add(MaxPool2D(pool_size=(2, 2)))\n",
        "model.add(Dropout(0.2))\n",
        "\n",
        "model.add(Conv2D(128, kernel_size=(3, 3), padding='same', activation='relu'))\n",
        "model.add(Conv2D(128, kernel_size=(3, 3), activation='relu'))\n",
        "model.add(MaxPool2D(pool_size=(2, 2)))\n",
        "model.add(Dropout(0.2))\n",
        "\n",
        "model.add(Flatten())\n",
        "model.add(Dense(512, activation='relu'))\n",
        "model.add(Dropout(0.5))\n",
        "model.add(Dense(43, activation='softmax'))\n",
        "model.summary()"
      ],
      "execution_count": 21,
      "outputs": [
        {
          "output_type": "stream",
          "text": [
            "Model: \"sequential_1\"\n",
            "_________________________________________________________________\n",
            "Layer (type)                 Output Shape              Param #   \n",
            "=================================================================\n",
            "conv2d_1 (Conv2D)            (None, 48, 48, 32)        896       \n",
            "_________________________________________________________________\n",
            "conv2d_2 (Conv2D)            (None, 46, 46, 32)        9248      \n",
            "_________________________________________________________________\n",
            "max_pooling2d_1 (MaxPooling2 (None, 23, 23, 32)        0         \n",
            "_________________________________________________________________\n",
            "dropout_1 (Dropout)          (None, 23, 23, 32)        0         \n",
            "_________________________________________________________________\n",
            "conv2d_3 (Conv2D)            (None, 23, 23, 64)        18496     \n",
            "_________________________________________________________________\n",
            "conv2d_4 (Conv2D)            (None, 21, 21, 64)        36928     \n",
            "_________________________________________________________________\n",
            "max_pooling2d_2 (MaxPooling2 (None, 10, 10, 64)        0         \n",
            "_________________________________________________________________\n",
            "dropout_2 (Dropout)          (None, 10, 10, 64)        0         \n",
            "_________________________________________________________________\n",
            "conv2d_5 (Conv2D)            (None, 10, 10, 128)       73856     \n",
            "_________________________________________________________________\n",
            "conv2d_6 (Conv2D)            (None, 8, 8, 128)         147584    \n",
            "_________________________________________________________________\n",
            "max_pooling2d_3 (MaxPooling2 (None, 4, 4, 128)         0         \n",
            "_________________________________________________________________\n",
            "dropout_3 (Dropout)          (None, 4, 4, 128)         0         \n",
            "_________________________________________________________________\n",
            "flatten_1 (Flatten)          (None, 2048)              0         \n",
            "_________________________________________________________________\n",
            "dense_1 (Dense)              (None, 512)               1049088   \n",
            "_________________________________________________________________\n",
            "dropout_4 (Dropout)          (None, 512)               0         \n",
            "_________________________________________________________________\n",
            "dense_2 (Dense)              (None, 43)                22059     \n",
            "=================================================================\n",
            "Total params: 1,358,155\n",
            "Trainable params: 1,358,155\n",
            "Non-trainable params: 0\n",
            "_________________________________________________________________\n"
          ],
          "name": "stdout"
        }
      ]
    },
    {
      "cell_type": "markdown",
      "metadata": {
        "id": "CVXBm0EuFd0M",
        "colab_type": "text"
      },
      "source": [
        "### Compile the model"
      ]
    },
    {
      "cell_type": "code",
      "metadata": {
        "id": "duDDlP5nqbkE",
        "colab_type": "code",
        "colab": {}
      },
      "source": [
        "# let's train the model using SGD + momentum\n",
        "lr = 0.01\n",
        "sgd = SGD(lr=lr, decay=1e-6, momentum=0.9, nesterov=True)"
      ],
      "execution_count": 0,
      "outputs": []
    },
    {
      "cell_type": "code",
      "metadata": {
        "id": "QE0bupYsFi_P",
        "colab_type": "code",
        "colab": {}
      },
      "source": [
        "model.compile(loss='categorical_crossentropy',\n",
        "              optimizer=sgd,\n",
        "              metrics=['accuracy'])"
      ],
      "execution_count": 0,
      "outputs": []
    },
    {
      "cell_type": "markdown",
      "metadata": {
        "id": "MvKgysUoF2AV",
        "colab_type": "text"
      },
      "source": [
        "### Fit the data into the model"
      ]
    },
    {
      "cell_type": "code",
      "metadata": {
        "id": "1G4T_IvZFm7p",
        "colab_type": "code",
        "colab": {}
      },
      "source": [
        "def lr_schedule(epoch):\n",
        "    return lr * (0.1 ** int(epoch / 10))"
      ],
      "execution_count": 0,
      "outputs": []
    },
    {
      "cell_type": "code",
      "metadata": {
        "id": "NuYzo8eLF7qV",
        "colab_type": "code",
        "colab": {}
      },
      "source": [
        "batch_size = 32\n",
        "epochs = 30"
      ],
      "execution_count": 0,
      "outputs": []
    },
    {
      "cell_type": "code",
      "metadata": {
        "id": "5jPpr0RNOiK-",
        "colab_type": "code",
        "colab": {}
      },
      "source": [
        "X_train = X_train.reshape(X_train.shape[0], 48, 48, 3)"
      ],
      "execution_count": 0,
      "outputs": []
    },
    {
      "cell_type": "code",
      "metadata": {
        "id": "O8GpkrAnF9e6",
        "colab_type": "code",
        "outputId": "86264771-0527-48b0-8378-1903ed5b1b34",
        "colab": {
          "base_uri": "https://localhost:8080/",
          "height": 1000
        }
      },
      "source": [
        "model_history = model.fit(X_train, Y_train,\n",
        "          batch_size=batch_size,\n",
        "          epochs=epochs,\n",
        "          validation_split=0.2,\n",
        "          callbacks=[LearningRateScheduler(lr_schedule),\n",
        "                     ModelCheckpoint('model.h5', save_best_only=True)],\n",
        "          verbose=2\n",
        "          )"
      ],
      "execution_count": 27,
      "outputs": [
        {
          "output_type": "stream",
          "text": [
            "Train on 31367 samples, validate on 7842 samples\n",
            "Epoch 1/30\n",
            " - 17s - loss: 3.2347 - accuracy: 0.1196 - val_loss: 2.3352 - val_accuracy: 0.3049\n",
            "Epoch 2/30\n",
            " - 9s - loss: 1.0439 - accuracy: 0.6681 - val_loss: 0.3182 - val_accuracy: 0.8929\n",
            "Epoch 3/30\n",
            " - 9s - loss: 0.3481 - accuracy: 0.8882 - val_loss: 0.1477 - val_accuracy: 0.9528\n",
            "Epoch 4/30\n",
            " - 9s - loss: 0.1964 - accuracy: 0.9375 - val_loss: 0.1038 - val_accuracy: 0.9679\n",
            "Epoch 5/30\n",
            " - 9s - loss: 0.1351 - accuracy: 0.9573 - val_loss: 0.0836 - val_accuracy: 0.9719\n",
            "Epoch 6/30\n",
            " - 10s - loss: 0.1056 - accuracy: 0.9674 - val_loss: 0.0575 - val_accuracy: 0.9807\n",
            "Epoch 7/30\n",
            " - 10s - loss: 0.0908 - accuracy: 0.9720 - val_loss: 0.0513 - val_accuracy: 0.9824\n",
            "Epoch 8/30\n",
            " - 9s - loss: 0.0755 - accuracy: 0.9765 - val_loss: 0.0601 - val_accuracy: 0.9821\n",
            "Epoch 9/30\n",
            " - 9s - loss: 0.0704 - accuracy: 0.9794 - val_loss: 0.0372 - val_accuracy: 0.9890\n",
            "Epoch 10/30\n",
            " - 9s - loss: 0.0551 - accuracy: 0.9821 - val_loss: 0.0408 - val_accuracy: 0.9894\n",
            "Epoch 11/30\n",
            " - 10s - loss: 0.0215 - accuracy: 0.9933 - val_loss: 0.0250 - val_accuracy: 0.9923\n",
            "Epoch 12/30\n",
            " - 10s - loss: 0.0139 - accuracy: 0.9953 - val_loss: 0.0246 - val_accuracy: 0.9927\n",
            "Epoch 13/30\n",
            " - 10s - loss: 0.0147 - accuracy: 0.9952 - val_loss: 0.0235 - val_accuracy: 0.9935\n",
            "Epoch 14/30\n",
            " - 10s - loss: 0.0111 - accuracy: 0.9964 - val_loss: 0.0207 - val_accuracy: 0.9943\n",
            "Epoch 15/30\n",
            " - 10s - loss: 0.0107 - accuracy: 0.9967 - val_loss: 0.0226 - val_accuracy: 0.9943\n",
            "Epoch 16/30\n",
            " - 10s - loss: 0.0094 - accuracy: 0.9971 - val_loss: 0.0208 - val_accuracy: 0.9945\n",
            "Epoch 17/30\n",
            " - 10s - loss: 0.0090 - accuracy: 0.9970 - val_loss: 0.0204 - val_accuracy: 0.9946\n",
            "Epoch 18/30\n",
            " - 10s - loss: 0.0077 - accuracy: 0.9980 - val_loss: 0.0196 - val_accuracy: 0.9938\n",
            "Epoch 19/30\n",
            " - 10s - loss: 0.0070 - accuracy: 0.9977 - val_loss: 0.0197 - val_accuracy: 0.9944\n",
            "Epoch 20/30\n",
            " - 10s - loss: 0.0078 - accuracy: 0.9974 - val_loss: 0.0207 - val_accuracy: 0.9938\n",
            "Epoch 21/30\n",
            " - 10s - loss: 0.0070 - accuracy: 0.9980 - val_loss: 0.0203 - val_accuracy: 0.9940\n",
            "Epoch 22/30\n",
            " - 10s - loss: 0.0079 - accuracy: 0.9975 - val_loss: 0.0202 - val_accuracy: 0.9943\n",
            "Epoch 23/30\n",
            " - 10s - loss: 0.0067 - accuracy: 0.9978 - val_loss: 0.0195 - val_accuracy: 0.9948\n",
            "Epoch 24/30\n",
            " - 10s - loss: 0.0072 - accuracy: 0.9974 - val_loss: 0.0193 - val_accuracy: 0.9948\n",
            "Epoch 25/30\n",
            " - 10s - loss: 0.0066 - accuracy: 0.9978 - val_loss: 0.0193 - val_accuracy: 0.9948\n",
            "Epoch 26/30\n",
            " - 9s - loss: 0.0073 - accuracy: 0.9974 - val_loss: 0.0197 - val_accuracy: 0.9948\n",
            "Epoch 27/30\n",
            " - 10s - loss: 0.0067 - accuracy: 0.9977 - val_loss: 0.0199 - val_accuracy: 0.9946\n",
            "Epoch 28/30\n",
            " - 10s - loss: 0.0070 - accuracy: 0.9981 - val_loss: 0.0199 - val_accuracy: 0.9950\n",
            "Epoch 29/30\n",
            " - 10s - loss: 0.0072 - accuracy: 0.9978 - val_loss: 0.0196 - val_accuracy: 0.9948\n",
            "Epoch 30/30\n",
            " - 10s - loss: 0.0066 - accuracy: 0.9979 - val_loss: 0.0193 - val_accuracy: 0.9949\n"
          ],
          "name": "stdout"
        }
      ]
    },
    {
      "cell_type": "markdown",
      "metadata": {
        "id": "Yl4KgaoPiQ6t",
        "colab_type": "text"
      },
      "source": [
        "### Plot the training accuracy"
      ]
    },
    {
      "cell_type": "code",
      "metadata": {
        "id": "zqTOBcWEiLts",
        "colab_type": "code",
        "colab": {
          "base_uri": "https://localhost:8080/",
          "height": 376
        },
        "outputId": "00445f8d-e7e7-454d-82d2-48efa8f713c7"
      },
      "source": [
        "matplotlib.style.use('seaborn')\n",
        "epochs = len(model_history.history['accuracy'])\n",
        "plt.axis([0, epochs+1, 0, 1.2])\n",
        "x = np.arange(1, epochs+1)\n",
        "plt.plot(x, model_history.history['accuracy'])\n",
        "plt.plot(x, model_history.history['val_accuracy'])\n",
        "plt.title('Training accuracy vs. Validation accuracy')\n",
        "plt.ylabel('Accuracy')\n",
        "plt.xlabel('Epoch')\n",
        "plt.legend(['Training', 'Validation'], loc='right')\n",
        "plt.show()"
      ],
      "execution_count": 28,
      "outputs": [
        {
          "output_type": "display_data",
          "data": {
            "image/png": "[encoded data removed]",
            "text/plain": [
              "<Figure size 576x396 with 1 Axes>"
            ]
          },
          "metadata": {
            "tags": []
          }
        }
      ]
    },
    {
      "cell_type": "markdown",
      "metadata": {
        "id": "ZXZwndFBii1F",
        "colab_type": "text"
      },
      "source": [
        "### plot the training loss"
      ]
    },
    {
      "cell_type": "code",
      "metadata": {
        "id": "cF3vLmRgirTx",
        "colab_type": "code",
        "colab": {
          "base_uri": "https://localhost:8080/",
          "height": 376
        },
        "outputId": "de50dba9-5669-426a-bece-db4e469b070f"
      },
      "source": [
        "matplotlib.style.use('seaborn')\n",
        "epochs = len(model_history.history['loss'])\n",
        "max_loss = max(max(model_history.history['loss']), max(model_history.history['val_loss']))\n",
        "plt.axis([0, epochs+1, 0, round(max_loss * 2.0) / 2 + 0.5])\n",
        "x = np.arange(1, epochs+1)\n",
        "plt.plot(x, model_history.history['loss'])\n",
        "plt.plot(x, model_history.history['val_loss'])\n",
        "plt.title('Training loss vs. Validation loss')\n",
        "plt.ylabel('Loss')\n",
        "plt.xlabel('Epoch')\n",
        "plt.legend(['Training', 'Validation'], loc='right')\n",
        "plt.show()"
      ],
      "execution_count": 29,
      "outputs": [
        {
          "output_type": "display_data",
          "data": {
            "image/png": "[encoded data removed]",
            "text/plain": [
              "<Figure size 576x396 with 1 Axes>"
            ]
          },
          "metadata": {
            "tags": []
          }
        }
      ]
    },
    {
      "cell_type": "markdown",
      "metadata": {
        "id": "0G7YBRoeh0Zs",
        "colab_type": "text"
      },
      "source": [
        "### Evaluate the model"
      ]
    },
    {
      "cell_type": "code",
      "metadata": {
        "id": "BtqzBlO1h8je",
        "colab_type": "code",
        "colab": {}
      },
      "source": [
        "X_test = X_test.reshape(X_test.shape[0], 48, 48, 3)"
      ],
      "execution_count": 0,
      "outputs": []
    },
    {
      "cell_type": "code",
      "metadata": {
        "id": "BoacC3VZQhwy",
        "colab_type": "code",
        "colab": {
          "base_uri": "https://localhost:8080/",
          "height": 34
        },
        "outputId": "42fce6bd-6a95-4e55-86fa-5ef670b4589c"
      },
      "source": [
        "# predict and evaluate\n",
        "y_pred = model.predict_classes(X_test)\n",
        "acc = np.sum(y_pred == y_test) / np.size(y_pred)\n",
        "print(\"Test accuracy = {}\".format(acc))"
      ],
      "execution_count": 67,
      "outputs": [
        {
          "output_type": "stream",
          "text": [
            "Test accuracy = 0.9566904196357878\n"
          ],
          "name": "stdout"
        }
      ]
    },
    {
      "cell_type": "markdown",
      "metadata": {
        "id": "2xbHWlLxTN5-",
        "colab_type": "text"
      },
      "source": [
        "### Predition test"
      ]
    },
    {
      "cell_type": "code",
      "metadata": {
        "id": "QpV78ssxUe2B",
        "colab_type": "code",
        "colab": {}
      },
      "source": [
        "from tensorflow.keras.models import load_model\n",
        "from imutils import paths\n",
        "import numpy as np\n",
        "import argparse\n",
        "import imutils\n",
        "import random\n",
        "#from utils import *\n",
        "import cv2\n",
        "import os"
      ],
      "execution_count": 0,
      "outputs": []
    },
    {
      "cell_type": "code",
      "metadata": {
        "id": "ATqidVUQVs-Y",
        "colab_type": "code",
        "colab": {}
      },
      "source": [
        "!mkdir test_image"
      ],
      "execution_count": 0,
      "outputs": []
    },
    {
      "cell_type": "code",
      "metadata": {
        "id": "yMiWaHVGVNVz",
        "colab_type": "code",
        "colab": {
          "base_uri": "https://localhost:8080/",
          "height": 365
        },
        "outputId": "ec54e832-3c62-41c7-9b25-b92cea90c8c9"
      },
      "source": [
        "plt.imshow(X_test[400].reshape(48, 48, 3))\n",
        "print(\"Predicted sign: \"+ str( \n",
        "        model.predict_classes(X_test[400].reshape(1, 48, 48, 3))))"
      ],
      "execution_count": 81,
      "outputs": [
        {
          "output_type": "stream",
          "text": [
            "Predicted sign: [38]\n"
          ],
          "name": "stdout"
        },
        {
          "output_type": "display_data",
          "data": {
            "image/png": "[encoded data removed]",
            "text/plain": [
              "<Figure size 576x396 with 1 Axes>"
            ]
          },
          "metadata": {
            "tags": []
          }
        }
      ]
    },
    {
      "cell_type": "code",
      "metadata": {
        "id": "DQd1YxgTYHfz",
        "colab_type": "code",
        "colab": {}
      },
      "source": [
        ""
      ],
      "execution_count": 0,
      "outputs": []
    }
  ]
}